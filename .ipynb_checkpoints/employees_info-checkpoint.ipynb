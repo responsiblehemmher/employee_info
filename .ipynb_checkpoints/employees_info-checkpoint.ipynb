{
 "cells": [
  {
   "cell_type": "code",
   "execution_count": 1,
   "id": "92c3ad4e-5de0-451e-9b74-258c8e407332",
   "metadata": {},
   "outputs": [],
   "source": [
    "file_path= r'C:\\Users\\David Ossi\\Downloads\\employee_info.csv'\n"
   ]
  },
  {
   "cell_type": "code",
   "execution_count": 2,
   "id": "493b83c6-c6a1-45e3-aafb-1b59aa4c3935",
   "metadata": {},
   "outputs": [],
   "source": [
    "import pandas as pd\n",
    "\n",
    "df = pd.read_csv(file_path)"
   ]
  },
  {
   "cell_type": "code",
   "execution_count": 4,
   "id": "3819adaa-6673-4f6c-bce9-5ac271d9f47d",
   "metadata": {},
   "outputs": [
    {
     "data": {
      "text/html": [
       "<div>\n",
       "<style scoped>\n",
       "    .dataframe tbody tr th:only-of-type {\n",
       "        vertical-align: middle;\n",
       "    }\n",
       "\n",
       "    .dataframe tbody tr th {\n",
       "        vertical-align: top;\n",
       "    }\n",
       "\n",
       "    .dataframe thead th {\n",
       "        text-align: right;\n",
       "    }\n",
       "</style>\n",
       "<table border=\"1\" class=\"dataframe\">\n",
       "  <thead>\n",
       "    <tr style=\"text-align: right;\">\n",
       "      <th></th>\n",
       "      <th>Name</th>\n",
       "      <th>Age</th>\n",
       "      <th>Salary</th>\n",
       "      <th>Department</th>\n",
       "      <th>Experience</th>\n",
       "    </tr>\n",
       "  </thead>\n",
       "  <tbody>\n",
       "    <tr>\n",
       "      <th>0</th>\n",
       "      <td>Alice</td>\n",
       "      <td>25</td>\n",
       "      <td>50000</td>\n",
       "      <td>HR</td>\n",
       "      <td>2</td>\n",
       "    </tr>\n",
       "    <tr>\n",
       "      <th>1</th>\n",
       "      <td>Bob</td>\n",
       "      <td>30</td>\n",
       "      <td>60000</td>\n",
       "      <td>IT</td>\n",
       "      <td>5</td>\n",
       "    </tr>\n",
       "    <tr>\n",
       "      <th>2</th>\n",
       "      <td>Charlie</td>\n",
       "      <td>35</td>\n",
       "      <td>75000</td>\n",
       "      <td>Finance</td>\n",
       "      <td>10</td>\n",
       "    </tr>\n",
       "    <tr>\n",
       "      <th>3</th>\n",
       "      <td>David</td>\n",
       "      <td>40</td>\n",
       "      <td>90000</td>\n",
       "      <td>IT</td>\n",
       "      <td>15</td>\n",
       "    </tr>\n",
       "    <tr>\n",
       "      <th>4</th>\n",
       "      <td>Eva</td>\n",
       "      <td>22</td>\n",
       "      <td>40000</td>\n",
       "      <td>HR</td>\n",
       "      <td>1</td>\n",
       "    </tr>\n",
       "    <tr>\n",
       "      <th>5</th>\n",
       "      <td>Frank</td>\n",
       "      <td>29</td>\n",
       "      <td>55000</td>\n",
       "      <td>Marketing</td>\n",
       "      <td>4</td>\n",
       "    </tr>\n",
       "    <tr>\n",
       "      <th>6</th>\n",
       "      <td>Grace</td>\n",
       "      <td>33</td>\n",
       "      <td>68000</td>\n",
       "      <td>Finance</td>\n",
       "      <td>8</td>\n",
       "    </tr>\n",
       "    <tr>\n",
       "      <th>7</th>\n",
       "      <td>Hannah</td>\n",
       "      <td>27</td>\n",
       "      <td>48000</td>\n",
       "      <td>IT</td>\n",
       "      <td>3</td>\n",
       "    </tr>\n",
       "    <tr>\n",
       "      <th>8</th>\n",
       "      <td>Ian</td>\n",
       "      <td>24</td>\n",
       "      <td>45000</td>\n",
       "      <td>Marketing</td>\n",
       "      <td>2</td>\n",
       "    </tr>\n",
       "    <tr>\n",
       "      <th>9</th>\n",
       "      <td>Jack</td>\n",
       "      <td>45</td>\n",
       "      <td>100000</td>\n",
       "      <td>Finance</td>\n",
       "      <td>20</td>\n",
       "    </tr>\n",
       "  </tbody>\n",
       "</table>\n",
       "</div>"
      ],
      "text/plain": [
       "      Name  Age  Salary Department  Experience\n",
       "0    Alice   25   50000         HR           2\n",
       "1      Bob   30   60000         IT           5\n",
       "2  Charlie   35   75000    Finance          10\n",
       "3    David   40   90000         IT          15\n",
       "4      Eva   22   40000         HR           1\n",
       "5    Frank   29   55000  Marketing           4\n",
       "6    Grace   33   68000    Finance           8\n",
       "7   Hannah   27   48000         IT           3\n",
       "8      Ian   24   45000  Marketing           2\n",
       "9     Jack   45  100000    Finance          20"
      ]
     },
     "execution_count": 4,
     "metadata": {},
     "output_type": "execute_result"
    }
   ],
   "source": [
    "df.head()\n",
    "df"
   ]
  },
  {
   "cell_type": "code",
   "execution_count": 5,
   "id": "72e3b250-2acf-449f-a21f-f437336186df",
   "metadata": {},
   "outputs": [
    {
     "data": {
      "text/html": [
       "<div>\n",
       "<style scoped>\n",
       "    .dataframe tbody tr th:only-of-type {\n",
       "        vertical-align: middle;\n",
       "    }\n",
       "\n",
       "    .dataframe tbody tr th {\n",
       "        vertical-align: top;\n",
       "    }\n",
       "\n",
       "    .dataframe thead th {\n",
       "        text-align: right;\n",
       "    }\n",
       "</style>\n",
       "<table border=\"1\" class=\"dataframe\">\n",
       "  <thead>\n",
       "    <tr style=\"text-align: right;\">\n",
       "      <th></th>\n",
       "      <th>Name</th>\n",
       "      <th>Age</th>\n",
       "      <th>Salary</th>\n",
       "      <th>Department</th>\n",
       "      <th>Experience</th>\n",
       "    </tr>\n",
       "  </thead>\n",
       "  <tbody>\n",
       "    <tr>\n",
       "      <th>5</th>\n",
       "      <td>Frank</td>\n",
       "      <td>29</td>\n",
       "      <td>55000</td>\n",
       "      <td>Marketing</td>\n",
       "      <td>4</td>\n",
       "    </tr>\n",
       "    <tr>\n",
       "      <th>6</th>\n",
       "      <td>Grace</td>\n",
       "      <td>33</td>\n",
       "      <td>68000</td>\n",
       "      <td>Finance</td>\n",
       "      <td>8</td>\n",
       "    </tr>\n",
       "    <tr>\n",
       "      <th>7</th>\n",
       "      <td>Hannah</td>\n",
       "      <td>27</td>\n",
       "      <td>48000</td>\n",
       "      <td>IT</td>\n",
       "      <td>3</td>\n",
       "    </tr>\n",
       "    <tr>\n",
       "      <th>8</th>\n",
       "      <td>Ian</td>\n",
       "      <td>24</td>\n",
       "      <td>45000</td>\n",
       "      <td>Marketing</td>\n",
       "      <td>2</td>\n",
       "    </tr>\n",
       "    <tr>\n",
       "      <th>9</th>\n",
       "      <td>Jack</td>\n",
       "      <td>45</td>\n",
       "      <td>100000</td>\n",
       "      <td>Finance</td>\n",
       "      <td>20</td>\n",
       "    </tr>\n",
       "  </tbody>\n",
       "</table>\n",
       "</div>"
      ],
      "text/plain": [
       "     Name  Age  Salary Department  Experience\n",
       "5   Frank   29   55000  Marketing           4\n",
       "6   Grace   33   68000    Finance           8\n",
       "7  Hannah   27   48000         IT           3\n",
       "8     Ian   24   45000  Marketing           2\n",
       "9    Jack   45  100000    Finance          20"
      ]
     },
     "execution_count": 5,
     "metadata": {},
     "output_type": "execute_result"
    }
   ],
   "source": [
    "df.tail()"
   ]
  },
  {
   "cell_type": "code",
   "execution_count": 6,
   "id": "3bdc3429-fb50-4f94-800f-bf9923929ae7",
   "metadata": {},
   "outputs": [
    {
     "name": "stdout",
     "output_type": "stream",
     "text": [
      "Dataset Shape: (10, 5)\n"
     ]
    }
   ],
   "source": [
    "# check the shape of the data set\n",
    "\n",
    "print(f'Dataset Shape: {df.shape}')"
   ]
  },
  {
   "cell_type": "code",
   "execution_count": 7,
   "id": "a0b21422-91b5-4320-8edd-d8b51b121978",
   "metadata": {},
   "outputs": [
    {
     "name": "stdout",
     "output_type": "stream",
     "text": [
      "Column Names: Index(['Name', 'Age', 'Salary', 'Department', 'Experience'], dtype='object')\n"
     ]
    }
   ],
   "source": [
    "print(\"Column Names:\",df.columns)"
   ]
  },
  {
   "cell_type": "code",
   "execution_count": 8,
   "id": "456de206-3f1d-443e-8184-afb69d56c33b",
   "metadata": {},
   "outputs": [
    {
     "name": "stdout",
     "output_type": "stream",
     "text": [
      "             Age         Salary  Experience\n",
      "count  10.000000      10.000000   10.000000\n",
      "mean   31.000000   63100.000000    7.000000\n",
      "std     7.333333   19963.577947    6.306963\n",
      "min    22.000000   40000.000000    1.000000\n",
      "25%    25.500000   48500.000000    2.250000\n",
      "50%    29.500000   57500.000000    4.500000\n",
      "75%    34.500000   73250.000000    9.500000\n",
      "max    45.000000  100000.000000   20.000000\n"
     ]
    }
   ],
   "source": [
    "print(df.describe())"
   ]
  },
  {
   "cell_type": "code",
   "execution_count": 9,
   "id": "16e7cd38-094a-48c4-aa2c-0440b02f1436",
   "metadata": {},
   "outputs": [
    {
     "data": {
      "text/html": [
       "<div>\n",
       "<style scoped>\n",
       "    .dataframe tbody tr th:only-of-type {\n",
       "        vertical-align: middle;\n",
       "    }\n",
       "\n",
       "    .dataframe tbody tr th {\n",
       "        vertical-align: top;\n",
       "    }\n",
       "\n",
       "    .dataframe thead th {\n",
       "        text-align: right;\n",
       "    }\n",
       "</style>\n",
       "<table border=\"1\" class=\"dataframe\">\n",
       "  <thead>\n",
       "    <tr style=\"text-align: right;\">\n",
       "      <th></th>\n",
       "      <th>Name</th>\n",
       "      <th>Salary</th>\n",
       "      <th>Department</th>\n",
       "    </tr>\n",
       "  </thead>\n",
       "  <tbody>\n",
       "    <tr>\n",
       "      <th>0</th>\n",
       "      <td>Alice</td>\n",
       "      <td>50000</td>\n",
       "      <td>HR</td>\n",
       "    </tr>\n",
       "    <tr>\n",
       "      <th>1</th>\n",
       "      <td>Bob</td>\n",
       "      <td>60000</td>\n",
       "      <td>IT</td>\n",
       "    </tr>\n",
       "    <tr>\n",
       "      <th>2</th>\n",
       "      <td>Charlie</td>\n",
       "      <td>75000</td>\n",
       "      <td>Finance</td>\n",
       "    </tr>\n",
       "    <tr>\n",
       "      <th>3</th>\n",
       "      <td>David</td>\n",
       "      <td>90000</td>\n",
       "      <td>IT</td>\n",
       "    </tr>\n",
       "    <tr>\n",
       "      <th>4</th>\n",
       "      <td>Eva</td>\n",
       "      <td>40000</td>\n",
       "      <td>HR</td>\n",
       "    </tr>\n",
       "  </tbody>\n",
       "</table>\n",
       "</div>"
      ],
      "text/plain": [
       "      Name  Salary Department\n",
       "0    Alice   50000         HR\n",
       "1      Bob   60000         IT\n",
       "2  Charlie   75000    Finance\n",
       "3    David   90000         IT\n",
       "4      Eva   40000         HR"
      ]
     },
     "execution_count": 9,
     "metadata": {},
     "output_type": "execute_result"
    }
   ],
   "source": [
    "\n",
    "# Filltering and Selcting Data\n",
    "# Select only IT Department employees\n",
    "it_employees = df[df['Department'] =='IT']\n",
    "\n",
    "\n",
    "# Select employess earning more than 60,000\n",
    "high_salary_employees = df[df['Salary'] > 60000]\n",
    "\n",
    "# Select specific columns\n",
    "df_selected = df[['Name', 'Salary','Department']]\n",
    "\n",
    "# Display result\n",
    "df_selected.head()\n",
    "\n"
   ]
  },
  {
   "cell_type": "code",
   "execution_count": 21,
   "id": "47e0cfc6-f37b-4839-a60a-a1cddf819df9",
   "metadata": {},
   "outputs": [
    {
     "name": "stdout",
     "output_type": "stream",
     "text": [
      "Pivot Table:\n",
      "             Salary\n",
      "Department        \n",
      "Finance      81000\n",
      "HR           45000\n",
      "IT           66000\n",
      "Marketing    50000\n",
      "\n",
      "Crosstab:\n",
      " Experience  1   2   3   4   5   8   10  15  20\n",
      "Department                                    \n",
      "Finance      0   0   0   0   0   1   1   0   1\n",
      "HR           1   1   0   0   0   0   0   0   0\n",
      "IT           0   0   1   0   1   0   0   1   0\n",
      "Marketing    0   1   0   1   0   0   0   0   0\n"
     ]
    }
   ],
   "source": [
    "# Pivot table - Average salary per department\n",
    "df_pivot = df.pivot_table(index='Department', values='Salary', aggfunc='mean')\n",
    "\n",
    "# Crosstab - Count of employees by Department\n",
    "df_crosstab = pd.crosstab(df['Department'], df['Experience'])\n",
    "\n",
    "print(\"Pivot Table:\\n\", df_pivot)\n",
    "print(\"\\nCrosstab:\\n\", df_crosstab)\n"
   ]
  },
  {
   "cell_type": "code",
   "execution_count": 17,
   "id": "08836915-18f9-4dd2-a17e-2f0afbc04f6b",
   "metadata": {},
   "outputs": [
    {
     "data": {
      "text/html": [
       "<div>\n",
       "<style scoped>\n",
       "    .dataframe tbody tr th:only-of-type {\n",
       "        vertical-align: middle;\n",
       "    }\n",
       "\n",
       "    .dataframe tbody tr th {\n",
       "        vertical-align: top;\n",
       "    }\n",
       "\n",
       "    .dataframe thead th {\n",
       "        text-align: right;\n",
       "    }\n",
       "</style>\n",
       "<table border=\"1\" class=\"dataframe\">\n",
       "  <thead>\n",
       "    <tr style=\"text-align: right;\">\n",
       "      <th></th>\n",
       "      <th>Name</th>\n",
       "      <th>Age</th>\n",
       "      <th>Salary</th>\n",
       "      <th>Department</th>\n",
       "      <th>Experience</th>\n",
       "      <th>Updated Salary</th>\n",
       "      <th>Bonus Ratio</th>\n",
       "    </tr>\n",
       "  </thead>\n",
       "  <tbody>\n",
       "    <tr>\n",
       "      <th>0</th>\n",
       "      <td>Alice</td>\n",
       "      <td>25</td>\n",
       "      <td>50000</td>\n",
       "      <td>HR</td>\n",
       "      <td>2</td>\n",
       "      <td>55000.0</td>\n",
       "      <td>0.1</td>\n",
       "    </tr>\n",
       "    <tr>\n",
       "      <th>1</th>\n",
       "      <td>Bob</td>\n",
       "      <td>30</td>\n",
       "      <td>60000</td>\n",
       "      <td>IT</td>\n",
       "      <td>5</td>\n",
       "      <td>66000.0</td>\n",
       "      <td>0.1</td>\n",
       "    </tr>\n",
       "    <tr>\n",
       "      <th>2</th>\n",
       "      <td>Charlie</td>\n",
       "      <td>35</td>\n",
       "      <td>75000</td>\n",
       "      <td>Finance</td>\n",
       "      <td>10</td>\n",
       "      <td>82500.0</td>\n",
       "      <td>0.1</td>\n",
       "    </tr>\n",
       "    <tr>\n",
       "      <th>3</th>\n",
       "      <td>David</td>\n",
       "      <td>40</td>\n",
       "      <td>90000</td>\n",
       "      <td>IT</td>\n",
       "      <td>15</td>\n",
       "      <td>99000.0</td>\n",
       "      <td>0.1</td>\n",
       "    </tr>\n",
       "    <tr>\n",
       "      <th>4</th>\n",
       "      <td>Eva</td>\n",
       "      <td>22</td>\n",
       "      <td>40000</td>\n",
       "      <td>HR</td>\n",
       "      <td>1</td>\n",
       "      <td>44000.0</td>\n",
       "      <td>0.1</td>\n",
       "    </tr>\n",
       "  </tbody>\n",
       "</table>\n",
       "</div>"
      ],
      "text/plain": [
       "      Name  Age  Salary Department  Experience  Updated Salary  Bonus Ratio\n",
       "0    Alice   25   50000         HR           2         55000.0          0.1\n",
       "1      Bob   30   60000         IT           5         66000.0          0.1\n",
       "2  Charlie   35   75000    Finance          10         82500.0          0.1\n",
       "3    David   40   90000         IT          15         99000.0          0.1\n",
       "4      Eva   22   40000         HR           1         44000.0          0.1"
      ]
     },
     "execution_count": 17,
     "metadata": {},
     "output_type": "execute_result"
    }
   ],
   "source": [
    "# Create a new column with Salary after 10% increment\n",
    "df['Updated Salary'] = df['Salary'].apply(lambda x: x * 1.10)\n",
    "\n",
    "# Apply function row-wise to calculate bonus-to-salary ratio\n",
    "df['Bonus Ratio'] = df.apply(lambda row: (row['Salary'] * 0.1) / row['Salary'], axis=1)\n",
    "\n",
    "df.head()\n"
   ]
  },
  {
   "cell_type": "code",
   "execution_count": 18,
   "id": "fdc82e34-775f-4368-9925-bb4f56a58ffa",
   "metadata": {},
   "outputs": [
    {
     "name": "stdout",
     "output_type": "stream",
     "text": [
      "Average Salary by Department:\n",
      " Department\n",
      "Finance      81000.0\n",
      "HR           45000.0\n",
      "IT           66000.0\n",
      "Marketing    50000.0\n",
      "Name: Salary, dtype: float64\n",
      "\n",
      "Total Experience by Department:\n",
      " Department\n",
      "Finance      38\n",
      "HR            3\n",
      "IT           23\n",
      "Marketing     6\n",
      "Name: Experience, dtype: int64\n"
     ]
    }
   ],
   "source": [
    "# Get average salary by department\n",
    "avg_salary_by_department = df.groupby('Department')['Salary'].mean()\n",
    "\n",
    "# Get total experience by department\n",
    "total_experience_by_department = df.groupby('Department')['Experience'].sum()\n",
    "\n",
    "# Display results\n",
    "print(\"Average Salary by Department:\\n\", avg_salary_by_department)\n",
    "print(\"\\nTotal Experience by Department:\\n\", total_experience_by_department)\n"
   ]
  },
  {
   "cell_type": "code",
   "execution_count": 20,
   "id": "9135e5ab-b086-40f0-b10b-766fcbc7a7e5",
   "metadata": {},
   "outputs": [
    {
     "data": {
      "text/html": [
       "<div>\n",
       "<style scoped>\n",
       "    .dataframe tbody tr th:only-of-type {\n",
       "        vertical-align: middle;\n",
       "    }\n",
       "\n",
       "    .dataframe tbody tr th {\n",
       "        vertical-align: top;\n",
       "    }\n",
       "\n",
       "    .dataframe thead th {\n",
       "        text-align: right;\n",
       "    }\n",
       "</style>\n",
       "<table border=\"1\" class=\"dataframe\">\n",
       "  <thead>\n",
       "    <tr style=\"text-align: right;\">\n",
       "      <th></th>\n",
       "      <th>Name</th>\n",
       "      <th>Age</th>\n",
       "      <th>Salary</th>\n",
       "      <th>Department</th>\n",
       "      <th>Experience</th>\n",
       "      <th>Updated Salary</th>\n",
       "      <th>Bonus Ratio</th>\n",
       "      <th>Bonus</th>\n",
       "    </tr>\n",
       "  </thead>\n",
       "  <tbody>\n",
       "    <tr>\n",
       "      <th>0</th>\n",
       "      <td>Alice</td>\n",
       "      <td>25</td>\n",
       "      <td>50000</td>\n",
       "      <td>HR</td>\n",
       "      <td>2</td>\n",
       "      <td>55000.0</td>\n",
       "      <td>0.1</td>\n",
       "      <td>5000</td>\n",
       "    </tr>\n",
       "    <tr>\n",
       "      <th>1</th>\n",
       "      <td>Bob</td>\n",
       "      <td>30</td>\n",
       "      <td>60000</td>\n",
       "      <td>IT</td>\n",
       "      <td>5</td>\n",
       "      <td>66000.0</td>\n",
       "      <td>0.1</td>\n",
       "      <td>7000</td>\n",
       "    </tr>\n",
       "    <tr>\n",
       "      <th>2</th>\n",
       "      <td>Charlie</td>\n",
       "      <td>35</td>\n",
       "      <td>75000</td>\n",
       "      <td>Finance</td>\n",
       "      <td>10</td>\n",
       "      <td>82500.0</td>\n",
       "      <td>0.1</td>\n",
       "      <td>8000</td>\n",
       "    </tr>\n",
       "    <tr>\n",
       "      <th>3</th>\n",
       "      <td>David</td>\n",
       "      <td>40</td>\n",
       "      <td>90000</td>\n",
       "      <td>IT</td>\n",
       "      <td>15</td>\n",
       "      <td>99000.0</td>\n",
       "      <td>0.1</td>\n",
       "      <td>7000</td>\n",
       "    </tr>\n",
       "    <tr>\n",
       "      <th>4</th>\n",
       "      <td>Eva</td>\n",
       "      <td>22</td>\n",
       "      <td>40000</td>\n",
       "      <td>HR</td>\n",
       "      <td>1</td>\n",
       "      <td>44000.0</td>\n",
       "      <td>0.1</td>\n",
       "      <td>5000</td>\n",
       "    </tr>\n",
       "    <tr>\n",
       "      <th>5</th>\n",
       "      <td>Frank</td>\n",
       "      <td>29</td>\n",
       "      <td>55000</td>\n",
       "      <td>Marketing</td>\n",
       "      <td>4</td>\n",
       "      <td>60500.0</td>\n",
       "      <td>0.1</td>\n",
       "      <td>6000</td>\n",
       "    </tr>\n",
       "    <tr>\n",
       "      <th>6</th>\n",
       "      <td>Grace</td>\n",
       "      <td>33</td>\n",
       "      <td>68000</td>\n",
       "      <td>Finance</td>\n",
       "      <td>8</td>\n",
       "      <td>74800.0</td>\n",
       "      <td>0.1</td>\n",
       "      <td>8000</td>\n",
       "    </tr>\n",
       "    <tr>\n",
       "      <th>7</th>\n",
       "      <td>Hannah</td>\n",
       "      <td>27</td>\n",
       "      <td>48000</td>\n",
       "      <td>IT</td>\n",
       "      <td>3</td>\n",
       "      <td>52800.0</td>\n",
       "      <td>0.1</td>\n",
       "      <td>7000</td>\n",
       "    </tr>\n",
       "    <tr>\n",
       "      <th>8</th>\n",
       "      <td>Ian</td>\n",
       "      <td>24</td>\n",
       "      <td>45000</td>\n",
       "      <td>Marketing</td>\n",
       "      <td>2</td>\n",
       "      <td>49500.0</td>\n",
       "      <td>0.1</td>\n",
       "      <td>6000</td>\n",
       "    </tr>\n",
       "    <tr>\n",
       "      <th>9</th>\n",
       "      <td>Jack</td>\n",
       "      <td>45</td>\n",
       "      <td>100000</td>\n",
       "      <td>Finance</td>\n",
       "      <td>20</td>\n",
       "      <td>110000.0</td>\n",
       "      <td>0.1</td>\n",
       "      <td>8000</td>\n",
       "    </tr>\n",
       "  </tbody>\n",
       "</table>\n",
       "</div>"
      ],
      "text/plain": [
       "      Name  Age  Salary Department  Experience  Updated Salary  Bonus Ratio  \\\n",
       "0    Alice   25   50000         HR           2         55000.0          0.1   \n",
       "1      Bob   30   60000         IT           5         66000.0          0.1   \n",
       "2  Charlie   35   75000    Finance          10         82500.0          0.1   \n",
       "3    David   40   90000         IT          15         99000.0          0.1   \n",
       "4      Eva   22   40000         HR           1         44000.0          0.1   \n",
       "5    Frank   29   55000  Marketing           4         60500.0          0.1   \n",
       "6    Grace   33   68000    Finance           8         74800.0          0.1   \n",
       "7   Hannah   27   48000         IT           3         52800.0          0.1   \n",
       "8      Ian   24   45000  Marketing           2         49500.0          0.1   \n",
       "9     Jack   45  100000    Finance          20        110000.0          0.1   \n",
       "\n",
       "   Bonus  \n",
       "0   5000  \n",
       "1   7000  \n",
       "2   8000  \n",
       "3   7000  \n",
       "4   5000  \n",
       "5   6000  \n",
       "6   8000  \n",
       "7   7000  \n",
       "8   6000  \n",
       "9   8000  "
      ]
     },
     "execution_count": 20,
     "metadata": {},
     "output_type": "execute_result"
    }
   ],
   "source": [
    "# Create another DataFrame for merging\n",
    "bonus_data = pd.DataFrame({\n",
    "    'Department': ['HR', 'IT', 'Finance', 'Marketing'],\n",
    "    'Bonus': [5000, 7000, 8000, 6000]\n",
    "})\n",
    "\n",
    "# Merge with original DataFrame\n",
    "df_merged = pd.merge(df, bonus_data, on='Department', how='left')\n",
    "\n",
    "df_merged.head()\n",
    "df_merged\n"
   ]
  },
  {
   "cell_type": "code",
   "execution_count": 23,
   "id": "4ce688d8-a530-4930-b0b3-799f852874e1",
   "metadata": {},
   "outputs": [
    {
     "data": {
      "image/png": "[encoded data removed]",
      "text/plain": [
       "<Figure size 800x500 with 1 Axes>"
      ]
     },
     "metadata": {},
     "output_type": "display_data"
    }
   ],
   "source": [
    "import matplotlib.pyplot as plt\n",
    "import seaborn as sns\n",
    "\n",
    "# Histogram of Salaries\n",
    "plt.figure(figsize=(8, 5))\n",
    "sns.histplot(df['Salary'], bins=5, kde=True)\n",
    "plt.title(\"Salary Distribution\")\n",
    "plt.show()"
   ]
  },
  {
   "cell_type": "code",
   "execution_count": 24,
   "id": "875ccff0-ced1-42ef-bf51-98a2d927a84b",
   "metadata": {},
   "outputs": [
    {
     "data": {
      "image/png": "[encoded data removed]",
      "text/plain": [
       "<Figure size 800x500 with 1 Axes>"
      ]
     },
     "metadata": {},
     "output_type": "display_data"
    }
   ],
   "source": [
    "# Bar plot - Average Salary by Department\n",
    "plt.figure(figsize=(8, 5))\n",
    "sns.barplot(x=avg_salary_by_department.index, y=avg_salary_by_department.values)\n",
    "plt.title(\"Average Salary by Department\")\n",
    "plt.show()"
   ]
  },
  {
   "cell_type": "code",
   "execution_count": 25,
   "id": "d36a6797-44a2-406d-952a-3a68e892abb6",
   "metadata": {},
   "outputs": [
    {
     "data": {
      "image/png": "[encoded data removed]",
      "text/plain": [
       "<Figure size 800x500 with 1 Axes>"
      ]
     },
     "metadata": {},
     "output_type": "display_data"
    }
   ],
   "source": [
    "# Scatter plot - Salary vs Experience\n",
    "plt.figure(figsize=(8, 5))\n",
    "sns.scatterplot(x='Experience', y='Salary', data=df, hue='Department')\n",
    "plt.title(\"Salary vs Experience\")\n",
    "plt.show()"
   ]
  },
  {
   "cell_type": "code",
   "execution_count": 27,
   "id": "ff33b540",
   "metadata": {},
   "outputs": [
    {
     "name": "stdout",
     "output_type": "stream",
     "text": [
      "T-Test Results: T-Statistic = -0.9480514742721027, P-Value = 0.3967868549933806\n"
     ]
    }
   ],
   "source": [
    "#Statistical Analysis\n",
    "from scipy import stats\n",
    "\n",
    "\n",
    "# T-test (Comparing Salaries of IT and Finance Departments)\n",
    "it_salaries = df[df['Department'] == 'IT']['Salary']\n",
    "finance_salaries = df[df['Department'] == 'Finance']['Salary']\n",
    "t_stat, p_value = stats.ttest_ind(it_salaries, finance_salaries)\n",
    "\n",
    "print(f\"T-Test Results: T-Statistic = {t_stat}, P-Value = {p_value}\")\n"
   ]
  },
  {
   "cell_type": "code",
   "execution_count": 29,
   "id": "cf1d8cf6",
   "metadata": {},
   "outputs": [
    {
     "name": "stdout",
     "output_type": "stream",
     "text": [
      "Correlation Matrix:\n",
      "                      Age    Salary  Experience  Updated Salary  Bonus Ratio\n",
      "Age             1.000000  0.993476    0.987365        0.993476          NaN\n",
      "Salary          0.993476  1.000000    0.989246        1.000000          NaN\n",
      "Experience      0.987365  0.989246    1.000000        0.989246          NaN\n",
      "Updated Salary  0.993476  1.000000    0.989246        1.000000          NaN\n",
      "Bonus Ratio          NaN       NaN         NaN             NaN          NaN\n"
     ]
    }
   ],
   "source": [
    "#Correlation Matrix\n",
    "\n",
    "# Ensure correlation uses only numeric columns\n",
    "print('Correlation Matrix:\\n', df.select_dtypes(include=['number']).corr())\n",
    "\n",
    "# Convert Salary to numeric \n",
    "df['Salary'] = pd.to_numeric(df['Salary'], errors='coerce')\n",
    "\n",
    "# Extract salaries for t-test\n",
    "it_salaries = df[df['Department'] == 'IT']['Salary'].dropna()\n",
    "finance_salaries = df[df['Department'] == 'Finance']['Salary'].dropna()"
   ]
  },
  {
   "cell_type": "code",
   "execution_count": null,
   "id": "c8d25f45",
   "metadata": {},
   "outputs": [],
   "source": []
  }
 ],
 "metadata": {
  "kernelspec": {
   "display_name": "Python 3 (ipykernel)",
   "language": "python",
   "name": "python3"
  },
  "language_info": {
   "codemirror_mode": {
    "name": "ipython",
    "version": 3
   },
   "file_extension": ".py",
   "mimetype": "text/x-python",
   "name": "python",
   "nbconvert_exporter": "python",
   "pygments_lexer": "ipython3",
   "version": "3.11.5"
  }
 },
 "nbformat": 4,
 "nbformat_minor": 5
}
